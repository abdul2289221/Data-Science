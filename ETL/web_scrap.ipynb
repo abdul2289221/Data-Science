{
 "cells": [
  {
   "cell_type": "markdown",
   "metadata": {},
   "source": [
    "# <center><div class=\"alert alert-block alert-info\">This code extracts data from a <b>Web Site</b>, Transforms it and Load into a Database</div></center>"
   ]
  },
  {
   "cell_type": "markdown",
   "metadata": {},
   "source": [
    "## The web site we will be scraping here is __[GlobalEspn.com](https://global.espn.com/football/standings/_/league/eng.1/season/2010)__ to collect English Premier League Table from 2010 - 2023"
   ]
  },
  {
   "cell_type": "markdown",
   "metadata": {},
   "source": [
    "### Importing needed packages"
   ]
  },
  {
   "cell_type": "code",
   "execution_count": 2,
   "metadata": {},
   "outputs": [],
   "source": [
    "import pandas as pd\n",
    "import urllib\n",
    "from bs4 import BeautifulSoup\n",
    "import sqlite3"
   ]
  },
  {
   "cell_type": "code",
   "execution_count": 3,
   "metadata": {},
   "outputs": [],
   "source": [
    "# Looping through the website to collect each year table and \n",
    "# loading it to the database at once\n",
    "for i in range(10, 24):\n",
    "    # Required variables\n",
    "    url = f'https://global.espn.com/football/standings/_/league/eng.1/season/20{i}'\n",
    "    html_object = urllib.request.urlopen(url)\n",
    "    \n",
    "    # Extracting the html structure from the object created\n",
    "    html_soup = BeautifulSoup(html_object, 'html.parser')\n",
    "\n",
    " \n",
    "    ## Retreiving the Teams Name and creating the DataFrame\n",
    "    # Fetching the 'standings' table from the soup\n",
    "    standings_html_table = html_soup.find(class_ = 'standings__table InnerLayout__child--dividers')\n",
    " \n",
    "    # Retreiving teams' mames\n",
    "    teams_html_table = standings_html_table.find(class_ = 'Table Table--align-right Table--fixed Table--fixed-left')\n",
    "    teams_name_year_dict = {'Club':[], 'Year':[]}\n",
    "    for element in teams_html_table.find('tbody').find_all(class_ = 'hide-mobile'):\n",
    "        teams_name_year_dict['Club'].append(element.get_text())\n",
    "        teams_name_year_dict['Year'].append(f'20{i}')\n",
    "    teams_df = pd.DataFrame(teams_name_year_dict)\n",
    "\n",
    "\n",
    "    ## Retreiving the Glossary\n",
    "    # Retreiving the glossary\n",
    "    glossary_html_divider = html_soup.find(class_ = 'glossary glossary--fullWidth glossary--fullWidth--desktopLG')\n",
    "\n",
    "    # Creating the glossary dictionary\n",
    "    glossary_list = [element.get_text().split(':') for element in glossary_html_divider.find_all('li')]\n",
    "    glossary_dict = {short:long for short,long in glossary_list}\n",
    "\n",
    "\n",
    "    ## Retreiving the Points\n",
    "    # Extracting points table from the html soup\n",
    "    points_html_table = html_soup.find(class_ = 'Table Table--align-right')\n",
    "    \n",
    "    # Creating points dataframe\n",
    "    # point headers\n",
    "    points_header_list = [element.get_text() for element in points_html_table.find('thead').find_all('th')]\n",
    "\n",
    "    points_list = []\n",
    "    for row in points_html_table.find('tbody').find_all('tr'):\n",
    "        points_list.append([element.get_text() for element in row.find_all('td')])\n",
    "\n",
    "    points_df = pd.DataFrame(points_list, columns=points_header_list)\n",
    "    points_df = points_df.rename(columns = glossary_dict)\n",
    "\n",
    "\n",
    "    ## Joining both DataFrames\n",
    "    df = pd.concat([teams_df, points_df], axis = 1)\n",
    "\n",
    "\n",
    "    ## Loading data to folder into CSV format in the current working directory\n",
    "    # df.to_csv(f'premier_league_table_20{i}.csv', index = False)\n",
    "\n",
    "\n",
    "    ## Loading data to the database server\n",
    "    conn = sqlite3.connect('Premier_league.db')\n",
    "    df.to_sql(f'premier_league_table_20{i}', con = conn, if_exists = 'replace', index = False)\n",
    "    conn.close()"
   ]
  },
  {
   "cell_type": "markdown",
   "metadata": {},
   "source": [
    "<b>Notice that so far all we have done is extract the data and transform it.<br>\n",
    "No cleaning is made yet as cleaning involves handling duplicate entries, outliers, inacurate, unwanted, irrelevant, and missing data. And fixing structured errors as well.<br>We will go through data cleaning in detail at the Analysis part.<b>"
   ]
  }
 ],
 "metadata": {
  "kernelspec": {
   "display_name": "dis-python",
   "language": "python",
   "name": "python3"
  },
  "language_info": {
   "codemirror_mode": {
    "name": "ipython",
    "version": 3
   },
   "file_extension": ".py",
   "mimetype": "text/x-python",
   "name": "python",
   "nbconvert_exporter": "python",
   "pygments_lexer": "ipython3",
   "version": "3.11.7"
  }
 },
 "nbformat": 4,
 "nbformat_minor": 2
}
