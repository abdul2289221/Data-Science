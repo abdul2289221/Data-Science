{
 "cells": [
  {
   "cell_type": "markdown",
   "metadata": {},
   "source": [
    "# <center><div class=\"alert alert-block alert-info\">This code extracts data from an <b>API</b>, Transforms it and Load into a Database</div></center>"
   ]
  },
  {
   "cell_type": "markdown",
   "metadata": {},
   "source": [
    "## The API call here will be from __[OpenWeatherMap.org](https://openweathermap.org/api/air-pollution)__ to collect Air Pollution data for a specific coordinate"
   ]
  },
  {
   "cell_type": "markdown",
   "metadata": {},
   "source": [
    "### Importing needed packages"
   ]
  },
  {
   "cell_type": "code",
   "execution_count": 6,
   "metadata": {},
   "outputs": [],
   "source": [
    "\n",
    "import pandas as pd\n",
    "import requests\n"
   ]
  },
  {
   "cell_type": "markdown",
   "metadata": {},
   "source": [
    "### Required variables"
   ]
  },
  {
   "cell_type": "code",
   "execution_count": 7,
   "metadata": {},
   "outputs": [],
   "source": [
    "# API key needed for the call - generated from the web site -\n",
    "api_key = 'bd0251f8398a0ebec1613513b5d6ceca'\n",
    "\n",
    "# Coordinate of the specific area we are interested in - here Central Omaha -\n",
    "lat, lon = 41.24571173787448, -96.0306766000668\n",
    "\n",
    "# Start and End date of the period we are interested in - here 2023/11/02 to 2024/01/01 - \n",
    "# in Unix Time format\n",
    "start_date, end_date = 1698883200, 1704067200\n",
    "\n",
    "# Actual API call structure\n",
    "api_call = f'http://api.openweathermap.org/data/2.5/air_pollution/history?\\\n",
    "lat={lat}&lon={lon}&start={start_date}&end={end_date}&appid={api_key}'"
   ]
  },
  {
   "cell_type": "markdown",
   "metadata": {},
   "source": [
    "### Launching the API call"
   ]
  },
  {
   "cell_type": "code",
   "execution_count": 8,
   "metadata": {},
   "outputs": [
    {
     "data": {
      "text/plain": [
       "<Response [200]>"
      ]
     },
     "execution_count": 8,
     "metadata": {},
     "output_type": "execute_result"
    }
   ],
   "source": [
    "# Querying the web site - a Response [200] mean successful -\n",
    "api_request = requests.get(api_call)\n",
    "api_request"
   ]
  },
  {
   "cell_type": "code",
   "execution_count": 9,
   "metadata": {},
   "outputs": [],
   "source": [
    "# Converting the request's response to JSON\n",
    "response = api_request.json()\n",
    "# response\n"
   ]
  },
  {
   "cell_type": "markdown",
   "metadata": {},
   "source": [
    "> The data is of a dictionary type"
   ]
  },
  {
   "cell_type": "markdown",
   "metadata": {},
   "source": [
    "### Transforming the data extracted"
   ]
  },
  {
   "cell_type": "code",
   "execution_count": 10,
   "metadata": {},
   "outputs": [
    {
     "name": "stdout",
     "output_type": "stream",
     "text": [
      "dict_keys(['coord', 'list'])\n"
     ]
    }
   ],
   "source": [
    "# Dictionary keys\n",
    "print(response.keys())"
   ]
  },
  {
   "cell_type": "code",
   "execution_count": 11,
   "metadata": {},
   "outputs": [],
   "source": [
    "# Recuperating only the 'list' key value\n",
    "# response['list']"
   ]
  },
  {
   "cell_type": "markdown",
   "metadata": {},
   "source": [
    "> This key (`list`) value is a list of dictionaries"
   ]
  },
  {
   "cell_type": "markdown",
   "metadata": {},
   "source": [
    "#### Restructuring the 1rst element of the list"
   ]
  },
  {
   "cell_type": "code",
   "execution_count": 12,
   "metadata": {},
   "outputs": [
    {
     "name": "stdout",
     "output_type": "stream",
     "text": [
      "{'main': {'aqi': 1}, 'components': {'co': 360.49, 'no': 0.03, 'no2': 24.33, 'o3': 46.49, 'so2': 0.94, 'pm2_5': 5.55, 'pm10': 7.21, 'nh3': 2.72}, 'dt': 1698883200}\n",
      "{'co': 360.49, 'no': 0.03, 'no2': 24.33, 'o3': 46.49, 'so2': 0.94, 'pm2_5': 5.55, 'pm10': 7.21, 'nh3': 2.72, 'aqi': 1, 'date': 1698883200}\n"
     ]
    }
   ],
   "source": [
    "# Verifying that 1rst element\n",
    "print(response['list'][0])\n",
    "\n",
    "# Transforming that 1rst element - aq: air quality -\n",
    "aq_components_dict = response['list'][0]['components']\n",
    "aq_components_dict['aqi'] = response['list'][0]['main']['aqi']\n",
    "aq_components_dict['date'] = response['list'][0]['dt']\n",
    "print(aq_components_dict)"
   ]
  },
  {
   "cell_type": "markdown",
   "metadata": {},
   "source": [
    "> Now we have all needed information grouped in `1` single dictionary"
   ]
  },
  {
   "cell_type": "code",
   "execution_count": 13,
   "metadata": {},
   "outputs": [],
   "source": [
    "# Looping through the hole list to rebuild \n",
    "aq_components_list = []\n",
    "\n",
    "for i in range(len(response['list'])):\n",
    "    aq_components_dict = response['list'][i]['components']\n",
    "    aq_components_dict['aqi'] = response['list'][i]['main']['aqi']\n",
    "    aq_components_dict['date'] = response['list'][i]['dt']\n",
    "    aq_components_list.append(aq_components_dict)\n",
    "\n",
    "# aq_components_list\n"
   ]
  },
  {
   "cell_type": "markdown",
   "metadata": {},
   "source": [
    "> Now we have a nice list of dictionary "
   ]
  },
  {
   "cell_type": "markdown",
   "metadata": {},
   "source": [
    "#### Converting the list to pandas DataFrame"
   ]
  },
  {
   "cell_type": "code",
   "execution_count": 18,
   "metadata": {},
   "outputs": [
    {
     "data": {
      "text/html": [
       "<div>\n",
       "<style scoped>\n",
       "    .dataframe tbody tr th:only-of-type {\n",
       "        vertical-align: middle;\n",
       "    }\n",
       "\n",
       "    .dataframe tbody tr th {\n",
       "        vertical-align: top;\n",
       "    }\n",
       "\n",
       "    .dataframe thead th {\n",
       "        text-align: right;\n",
       "    }\n",
       "</style>\n",
       "<table border=\"1\" class=\"dataframe\">\n",
       "  <thead>\n",
       "    <tr style=\"text-align: right;\">\n",
       "      <th></th>\n",
       "      <th>co</th>\n",
       "      <th>no</th>\n",
       "      <th>no2</th>\n",
       "      <th>o3</th>\n",
       "      <th>so2</th>\n",
       "      <th>pm2_5</th>\n",
       "      <th>pm10</th>\n",
       "      <th>nh3</th>\n",
       "      <th>aqi</th>\n",
       "      <th>date</th>\n",
       "    </tr>\n",
       "  </thead>\n",
       "  <tbody>\n",
       "    <tr>\n",
       "      <th>0</th>\n",
       "      <td>360.49</td>\n",
       "      <td>0.03</td>\n",
       "      <td>24.33</td>\n",
       "      <td>46.49</td>\n",
       "      <td>0.94</td>\n",
       "      <td>5.55</td>\n",
       "      <td>7.21</td>\n",
       "      <td>2.72</td>\n",
       "      <td>1</td>\n",
       "      <td>1698883200</td>\n",
       "    </tr>\n",
       "    <tr>\n",
       "      <th>1</th>\n",
       "      <td>377.18</td>\n",
       "      <td>0.04</td>\n",
       "      <td>26.39</td>\n",
       "      <td>38.62</td>\n",
       "      <td>0.86</td>\n",
       "      <td>6.19</td>\n",
       "      <td>7.90</td>\n",
       "      <td>2.94</td>\n",
       "      <td>1</td>\n",
       "      <td>1698886800</td>\n",
       "    </tr>\n",
       "    <tr>\n",
       "      <th>2</th>\n",
       "      <td>367.16</td>\n",
       "      <td>0.03</td>\n",
       "      <td>23.65</td>\n",
       "      <td>39.34</td>\n",
       "      <td>0.77</td>\n",
       "      <td>6.29</td>\n",
       "      <td>8.02</td>\n",
       "      <td>2.85</td>\n",
       "      <td>1</td>\n",
       "      <td>1698890400</td>\n",
       "    </tr>\n",
       "    <tr>\n",
       "      <th>3</th>\n",
       "      <td>337.12</td>\n",
       "      <td>0.01</td>\n",
       "      <td>18.16</td>\n",
       "      <td>45.06</td>\n",
       "      <td>0.68</td>\n",
       "      <td>5.64</td>\n",
       "      <td>7.30</td>\n",
       "      <td>2.60</td>\n",
       "      <td>1</td>\n",
       "      <td>1698894000</td>\n",
       "    </tr>\n",
       "    <tr>\n",
       "      <th>4</th>\n",
       "      <td>330.45</td>\n",
       "      <td>0.02</td>\n",
       "      <td>16.45</td>\n",
       "      <td>45.06</td>\n",
       "      <td>0.59</td>\n",
       "      <td>5.42</td>\n",
       "      <td>7.02</td>\n",
       "      <td>2.56</td>\n",
       "      <td>1</td>\n",
       "      <td>1698897600</td>\n",
       "    </tr>\n",
       "  </tbody>\n",
       "</table>\n",
       "</div>"
      ],
      "text/plain": [
       "       co    no    no2     o3   so2  pm2_5  pm10   nh3  aqi        date\n",
       "0  360.49  0.03  24.33  46.49  0.94   5.55  7.21  2.72    1  1698883200\n",
       "1  377.18  0.04  26.39  38.62  0.86   6.19  7.90  2.94    1  1698886800\n",
       "2  367.16  0.03  23.65  39.34  0.77   6.29  8.02  2.85    1  1698890400\n",
       "3  337.12  0.01  18.16  45.06  0.68   5.64  7.30  2.60    1  1698894000\n",
       "4  330.45  0.02  16.45  45.06  0.59   5.42  7.02  2.56    1  1698897600"
      ]
     },
     "execution_count": 18,
     "metadata": {},
     "output_type": "execute_result"
    }
   ],
   "source": [
    "# \n",
    "aq_df = pd.DataFrame(aq_components_list)\n",
    "aq_df.head()"
   ]
  },
  {
   "cell_type": "markdown",
   "metadata": {},
   "source": [
    "### Loading the data to a database"
   ]
  },
  {
   "cell_type": "markdown",
   "metadata": {},
   "source": [
    "> Here I used sqlite to create a database in the same folder as my code file"
   ]
  },
  {
   "cell_type": "code",
   "execution_count": 15,
   "metadata": {},
   "outputs": [],
   "source": [
    "# Importing required package\n",
    "import sqlite3\n"
   ]
  },
  {
   "cell_type": "code",
   "execution_count": 16,
   "metadata": {},
   "outputs": [],
   "source": [
    "# Connecting to the database and loading the data\n",
    "conn = sqlite3.connect('Air_quality.db')\n",
    "aq_df.to_sql(name='aq_index', con=conn, if_exists='replace', index=False)\n",
    "conn.close()"
   ]
  },
  {
   "cell_type": "markdown",
   "metadata": {},
   "source": [
    "> We can also load the data localy straigh into a folder "
   ]
  },
  {
   "cell_type": "code",
   "execution_count": 17,
   "metadata": {},
   "outputs": [],
   "source": [
    "# Loading the data into the current working directory as a CSV file\n",
    "aq_df.to_csv('aq_index.csv', index=False)"
   ]
  },
  {
   "cell_type": "markdown",
   "metadata": {},
   "source": [
    "<b>Notice that so far all we have done is extract the data and transform it.<br>\n",
    "No cleaning is made yet as cleaning involves handling duplicate entries, outliers, inacurate, unwanted, irrelevant, and missing data. And fixing structured errors as well.<br>We will go through data cleaning in detail at the Analysis part.<b>"
   ]
  }
 ],
 "metadata": {
  "kernelspec": {
   "display_name": "dis-python",
   "language": "python",
   "name": "python3"
  },
  "language_info": {
   "codemirror_mode": {
    "name": "ipython",
    "version": 3
   },
   "file_extension": ".py",
   "mimetype": "text/x-python",
   "name": "python",
   "nbconvert_exporter": "python",
   "pygments_lexer": "ipython3",
   "version": "3.11.7"
  }
 },
 "nbformat": 4,
 "nbformat_minor": 2
}
