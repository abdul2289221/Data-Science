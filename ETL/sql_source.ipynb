{
 "cells": [
  {
   "cell_type": "markdown",
   "metadata": {},
   "source": [
    "# <center><div class=\"alert alert-block alert-info\">This code extracts data from a <b>SQL Database</b>, Transforms it and Load in a directory</div></center>"
   ]
  },
  {
   "cell_type": "markdown",
   "metadata": {},
   "source": [
    "## The SQL Database used here the one we created during API call data collection"
   ]
  },
  {
   "cell_type": "markdown",
   "metadata": {},
   "source": [
    "### Importing needed packages"
   ]
  },
  {
   "cell_type": "code",
   "execution_count": 1,
   "metadata": {},
   "outputs": [],
   "source": [
    "# \n",
    "import pandas as pd\n",
    "import sqlite3\n"
   ]
  },
  {
   "cell_type": "markdown",
   "metadata": {},
   "source": [
    "### Establishing connection to the database"
   ]
  },
  {
   "cell_type": "markdown",
   "metadata": {},
   "source": [
    "<div class=\"alert alert-block alert-warning\">ALWAYS CLOSE THE CONNECTION AT THE END OF OPERATION</div>"
   ]
  },
  {
   "cell_type": "code",
   "execution_count": 2,
   "metadata": {},
   "outputs": [],
   "source": [
    "# Connection variable\n",
    "conn = sqlite3.connect('Air_quality.db')"
   ]
  },
  {
   "cell_type": "code",
   "execution_count": 3,
   "metadata": {},
   "outputs": [],
   "source": [
    "# Query the database and read the result into pandas DataFrame\n",
    "query = 'SELECT * FROM aq_index'\n",
    "aq_df = pd.read_sql(sql=query, con=conn)\n",
    "\n",
    "# Closing connection\n",
    "conn.close()"
   ]
  },
  {
   "cell_type": "code",
   "execution_count": 4,
   "metadata": {},
   "outputs": [
    {
     "data": {
      "text/html": [
       "<div>\n",
       "<style scoped>\n",
       "    .dataframe tbody tr th:only-of-type {\n",
       "        vertical-align: middle;\n",
       "    }\n",
       "\n",
       "    .dataframe tbody tr th {\n",
       "        vertical-align: top;\n",
       "    }\n",
       "\n",
       "    .dataframe thead th {\n",
       "        text-align: right;\n",
       "    }\n",
       "</style>\n",
       "<table border=\"1\" class=\"dataframe\">\n",
       "  <thead>\n",
       "    <tr style=\"text-align: right;\">\n",
       "      <th></th>\n",
       "      <th>co</th>\n",
       "      <th>no</th>\n",
       "      <th>no2</th>\n",
       "      <th>o3</th>\n",
       "      <th>so2</th>\n",
       "      <th>pm2_5</th>\n",
       "      <th>pm10</th>\n",
       "      <th>nh3</th>\n",
       "      <th>aqi</th>\n",
       "      <th>date</th>\n",
       "    </tr>\n",
       "  </thead>\n",
       "  <tbody>\n",
       "    <tr>\n",
       "      <th>0</th>\n",
       "      <td>360.49</td>\n",
       "      <td>0.03</td>\n",
       "      <td>24.33</td>\n",
       "      <td>46.49</td>\n",
       "      <td>0.94</td>\n",
       "      <td>5.55</td>\n",
       "      <td>7.21</td>\n",
       "      <td>2.72</td>\n",
       "      <td>1</td>\n",
       "      <td>1698883200</td>\n",
       "    </tr>\n",
       "    <tr>\n",
       "      <th>1</th>\n",
       "      <td>377.18</td>\n",
       "      <td>0.04</td>\n",
       "      <td>26.39</td>\n",
       "      <td>38.62</td>\n",
       "      <td>0.86</td>\n",
       "      <td>6.19</td>\n",
       "      <td>7.90</td>\n",
       "      <td>2.94</td>\n",
       "      <td>1</td>\n",
       "      <td>1698886800</td>\n",
       "    </tr>\n",
       "    <tr>\n",
       "      <th>2</th>\n",
       "      <td>367.16</td>\n",
       "      <td>0.03</td>\n",
       "      <td>23.65</td>\n",
       "      <td>39.34</td>\n",
       "      <td>0.77</td>\n",
       "      <td>6.29</td>\n",
       "      <td>8.02</td>\n",
       "      <td>2.85</td>\n",
       "      <td>1</td>\n",
       "      <td>1698890400</td>\n",
       "    </tr>\n",
       "    <tr>\n",
       "      <th>3</th>\n",
       "      <td>337.12</td>\n",
       "      <td>0.01</td>\n",
       "      <td>18.16</td>\n",
       "      <td>45.06</td>\n",
       "      <td>0.68</td>\n",
       "      <td>5.64</td>\n",
       "      <td>7.30</td>\n",
       "      <td>2.60</td>\n",
       "      <td>1</td>\n",
       "      <td>1698894000</td>\n",
       "    </tr>\n",
       "    <tr>\n",
       "      <th>4</th>\n",
       "      <td>330.45</td>\n",
       "      <td>0.02</td>\n",
       "      <td>16.45</td>\n",
       "      <td>45.06</td>\n",
       "      <td>0.59</td>\n",
       "      <td>5.42</td>\n",
       "      <td>7.02</td>\n",
       "      <td>2.56</td>\n",
       "      <td>1</td>\n",
       "      <td>1698897600</td>\n",
       "    </tr>\n",
       "  </tbody>\n",
       "</table>\n",
       "</div>"
      ],
      "text/plain": [
       "       co    no    no2     o3   so2  pm2_5  pm10   nh3  aqi        date\n",
       "0  360.49  0.03  24.33  46.49  0.94   5.55  7.21  2.72    1  1698883200\n",
       "1  377.18  0.04  26.39  38.62  0.86   6.19  7.90  2.94    1  1698886800\n",
       "2  367.16  0.03  23.65  39.34  0.77   6.29  8.02  2.85    1  1698890400\n",
       "3  337.12  0.01  18.16  45.06  0.68   5.64  7.30  2.60    1  1698894000\n",
       "4  330.45  0.02  16.45  45.06  0.59   5.42  7.02  2.56    1  1698897600"
      ]
     },
     "execution_count": 4,
     "metadata": {},
     "output_type": "execute_result"
    }
   ],
   "source": [
    "# \n",
    "aq_df.head()"
   ]
  },
  {
   "cell_type": "markdown",
   "metadata": {},
   "source": [
    "### Transforming the data"
   ]
  },
  {
   "cell_type": "markdown",
   "metadata": {},
   "source": [
    "From the web site where we have collected the data, the pollutant (columns) have their full name in a human readable format. We will rename the DataFrame columns name to those full name and convert the date column to a human readable format as well."
   ]
  },
  {
   "cell_type": "code",
   "execution_count": 5,
   "metadata": {},
   "outputs": [
    {
     "data": {
      "text/plain": [
       "{'co': 'carbon_monoxide',\n",
       " 'no': 'nitrogen_monoxide',\n",
       " 'no2': 'nitrogen_dioxide',\n",
       " 'o3': 'ozone',\n",
       " 'so2': 'sulphur_dioxide',\n",
       " 'pm2_5': 'particulates2_5',\n",
       " 'pm10': 'particulates10',\n",
       " 'nh3': 'ammonia',\n",
       " 'aqi': 'air_quality_index',\n",
       " 'date': 'date'}"
      ]
     },
     "execution_count": 5,
     "metadata": {},
     "output_type": "execute_result"
    }
   ],
   "source": [
    "# Columns full names\n",
    "columns_f_name = ['carbon_monoxide', 'nitrogen_monoxide', 'nitrogen_dioxide', \n",
    "                  'ozone', 'sulphur_dioxide', 'particulates2_5', \n",
    "                  'particulates10', 'ammonia', 'air_quality_index', 'date']\n",
    "\n",
    "# Mapping the short names to their respective full name in a dictionary dtype\n",
    "columns_name_dict = {short:full for short, full in zip(list(aq_df.columns), columns_f_name)}\n",
    "columns_name_dict"
   ]
  },
  {
   "cell_type": "code",
   "execution_count": 6,
   "metadata": {},
   "outputs": [
    {
     "data": {
      "text/html": [
       "<div>\n",
       "<style scoped>\n",
       "    .dataframe tbody tr th:only-of-type {\n",
       "        vertical-align: middle;\n",
       "    }\n",
       "\n",
       "    .dataframe tbody tr th {\n",
       "        vertical-align: top;\n",
       "    }\n",
       "\n",
       "    .dataframe thead th {\n",
       "        text-align: right;\n",
       "    }\n",
       "</style>\n",
       "<table border=\"1\" class=\"dataframe\">\n",
       "  <thead>\n",
       "    <tr style=\"text-align: right;\">\n",
       "      <th></th>\n",
       "      <th>carbon_monoxide</th>\n",
       "      <th>nitrogen_monoxide</th>\n",
       "      <th>nitrogen_dioxide</th>\n",
       "      <th>ozone</th>\n",
       "      <th>sulphur_dioxide</th>\n",
       "      <th>particulates2_5</th>\n",
       "      <th>particulates10</th>\n",
       "      <th>ammonia</th>\n",
       "      <th>air_quality_index</th>\n",
       "      <th>date</th>\n",
       "    </tr>\n",
       "  </thead>\n",
       "  <tbody>\n",
       "    <tr>\n",
       "      <th>0</th>\n",
       "      <td>360.49</td>\n",
       "      <td>0.03</td>\n",
       "      <td>24.33</td>\n",
       "      <td>46.49</td>\n",
       "      <td>0.94</td>\n",
       "      <td>5.55</td>\n",
       "      <td>7.21</td>\n",
       "      <td>2.72</td>\n",
       "      <td>1</td>\n",
       "      <td>2023-11-02 00:00:00</td>\n",
       "    </tr>\n",
       "    <tr>\n",
       "      <th>1</th>\n",
       "      <td>377.18</td>\n",
       "      <td>0.04</td>\n",
       "      <td>26.39</td>\n",
       "      <td>38.62</td>\n",
       "      <td>0.86</td>\n",
       "      <td>6.19</td>\n",
       "      <td>7.90</td>\n",
       "      <td>2.94</td>\n",
       "      <td>1</td>\n",
       "      <td>2023-11-02 01:00:00</td>\n",
       "    </tr>\n",
       "    <tr>\n",
       "      <th>2</th>\n",
       "      <td>367.16</td>\n",
       "      <td>0.03</td>\n",
       "      <td>23.65</td>\n",
       "      <td>39.34</td>\n",
       "      <td>0.77</td>\n",
       "      <td>6.29</td>\n",
       "      <td>8.02</td>\n",
       "      <td>2.85</td>\n",
       "      <td>1</td>\n",
       "      <td>2023-11-02 02:00:00</td>\n",
       "    </tr>\n",
       "    <tr>\n",
       "      <th>3</th>\n",
       "      <td>337.12</td>\n",
       "      <td>0.01</td>\n",
       "      <td>18.16</td>\n",
       "      <td>45.06</td>\n",
       "      <td>0.68</td>\n",
       "      <td>5.64</td>\n",
       "      <td>7.30</td>\n",
       "      <td>2.60</td>\n",
       "      <td>1</td>\n",
       "      <td>2023-11-02 03:00:00</td>\n",
       "    </tr>\n",
       "    <tr>\n",
       "      <th>4</th>\n",
       "      <td>330.45</td>\n",
       "      <td>0.02</td>\n",
       "      <td>16.45</td>\n",
       "      <td>45.06</td>\n",
       "      <td>0.59</td>\n",
       "      <td>5.42</td>\n",
       "      <td>7.02</td>\n",
       "      <td>2.56</td>\n",
       "      <td>1</td>\n",
       "      <td>2023-11-02 04:00:00</td>\n",
       "    </tr>\n",
       "  </tbody>\n",
       "</table>\n",
       "</div>"
      ],
      "text/plain": [
       "   carbon_monoxide  nitrogen_monoxide  nitrogen_dioxide  ozone  \\\n",
       "0           360.49               0.03             24.33  46.49   \n",
       "1           377.18               0.04             26.39  38.62   \n",
       "2           367.16               0.03             23.65  39.34   \n",
       "3           337.12               0.01             18.16  45.06   \n",
       "4           330.45               0.02             16.45  45.06   \n",
       "\n",
       "   sulphur_dioxide  particulates2_5  particulates10  ammonia  \\\n",
       "0             0.94             5.55            7.21     2.72   \n",
       "1             0.86             6.19            7.90     2.94   \n",
       "2             0.77             6.29            8.02     2.85   \n",
       "3             0.68             5.64            7.30     2.60   \n",
       "4             0.59             5.42            7.02     2.56   \n",
       "\n",
       "   air_quality_index                date  \n",
       "0                  1 2023-11-02 00:00:00  \n",
       "1                  1 2023-11-02 01:00:00  \n",
       "2                  1 2023-11-02 02:00:00  \n",
       "3                  1 2023-11-02 03:00:00  \n",
       "4                  1 2023-11-02 04:00:00  "
      ]
     },
     "execution_count": 6,
     "metadata": {},
     "output_type": "execute_result"
    }
   ],
   "source": [
    "# Renaming the columns in Dataframe\n",
    "aq_df = aq_df.rename(columns = columns_name_dict)\n",
    "\n",
    "# Converting the date column to human readable format\n",
    "aq_df['date'] = pd.to_datetime(aq_df['date'], unit='s')\n",
    "aq_df.head()"
   ]
  },
  {
   "cell_type": "markdown",
   "metadata": {},
   "source": [
    "### Loading the final data"
   ]
  },
  {
   "cell_type": "code",
   "execution_count": 7,
   "metadata": {},
   "outputs": [],
   "source": [
    "# Saving the data as a CSV file in the current working folder\n",
    "aq_df.to_csv('aqi.csv', index=False)"
   ]
  },
  {
   "cell_type": "markdown",
   "metadata": {},
   "source": [
    "<b>Notice that so far all we have done is extract the data and transform it.<br>\n",
    "No cleaning is made yet as cleaning involves handling duplicate entries, outliers, inacurate, unwanted, irrelevant, and missing data. And fixing structured errors as well.<br>We will go through data cleaning in detail at the Analysis part.<b>"
   ]
  }
 ],
 "metadata": {
  "kernelspec": {
   "display_name": "dis-python",
   "language": "python",
   "name": "python3"
  },
  "language_info": {
   "codemirror_mode": {
    "name": "ipython",
    "version": 3
   },
   "file_extension": ".py",
   "mimetype": "text/x-python",
   "name": "python",
   "nbconvert_exporter": "python",
   "pygments_lexer": "ipython3",
   "version": "3.11.7"
  }
 },
 "nbformat": 4,
 "nbformat_minor": 2
}
